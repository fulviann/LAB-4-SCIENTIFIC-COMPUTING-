{
  "cells": [
    {
      "cell_type": "markdown",
      "source": [
        "FULVIAN RAYHAN R.P - 2702354256"
      ],
      "metadata": {
        "id": "6Y8bWvEld9EO"
      }
    },
    {
      "cell_type": "code",
      "source": [
        "import numpy as np\n",
        "\n",
        "def my_bisection(f, a, b, tol):\n",
        "  # approximates a root, R, of f bounded\n",
        "  # by a and b to within tolerance\n",
        "\n",
        "  if np.sign(f(a)) == np.sign(f(b)) :\n",
        "    raise Exception (\n",
        "        \"the Scalars a and b do not bound a root\"\n",
        "    )\n",
        "\n",
        "\n",
        "  m = (a+b)/2\n",
        "\n",
        "  if np.abs(f(m)) < tol :\n",
        "    return m\n",
        "\n",
        "  if np.sign(f(a)) == np.sign(f(m)):\n",
        "    return my_bisection(f, m, b, tol)\n",
        "\n",
        "  if np.sign(f(b)) == np.sign(f(m)):\n",
        "    return my_bisection(f, a, m, tol)\n"
      ],
      "metadata": {
        "id": "_21SFHMsscuj"
      },
      "execution_count": 12,
      "outputs": []
    },
    {
      "cell_type": "code",
      "source": [
        "f = lambda x: x**2 - 2\n",
        "\n",
        "r1 = my_bisection(f, 0, 2, 0.1)\n",
        "print(\"r1 =\", r1)\n",
        "r01 = my_bisection(f, 0, 2, 0.1)\n",
        "print(\"r01 =\", r01)\n",
        "\n",
        "print(\"f(r1) =\", f(r1))\n",
        "print(\"f(r01) =\", f(r01))\n"
      ],
      "metadata": {
        "colab": {
          "base_uri": "https://localhost:8080/"
        },
        "id": "xQ7G--k_qSnM",
        "outputId": "a9d06bd2-6c51-4316-e4ea-2dee50f9715a"
      },
      "execution_count": 13,
      "outputs": [
        {
          "output_type": "stream",
          "name": "stdout",
          "text": [
            "r1 = 1.4375\n",
            "r01 = 1.4375\n",
            "f(r1) = 0.06640625\n",
            "f(r01) = 0.06640625\n"
          ]
        }
      ]
    },
    {
      "cell_type": "markdown",
      "source": [
        "QUIZ 1 BISECTION"
      ],
      "metadata": {
        "id": "Z_78GZNYeNLx"
      }
    },
    {
      "cell_type": "code",
      "source": [
        "f = lambda x: x**3 - 3*x*2 + 2*x\n",
        "a = 1\n",
        "b = 2\n",
        "tol = 0.01\n",
        "\n",
        "print(my_bisection (f, a, b, tol))"
      ],
      "metadata": {
        "colab": {
          "base_uri": "https://localhost:8080/"
        },
        "id": "jqRgeDJYeIR4",
        "outputId": "f64ca48d-6e0b-494d-d666-755aa5197f46"
      },
      "execution_count": 17,
      "outputs": [
        {
          "output_type": "stream",
          "name": "stdout",
          "text": [
            "1.9990234375\n"
          ]
        }
      ]
    },
    {
      "cell_type": "markdown",
      "source": [
        "QUIZ 2 BISECTION"
      ],
      "metadata": {
        "id": "dq7QLlPFMa77"
      }
    },
    {
      "cell_type": "code",
      "source": [
        "f = lambda x: np.sin(x) - x\n",
        "a = 0\n",
        "b = 1\n",
        "tol = 0.001\n",
        "\n",
        "print(my_bisection (f, a, b, tol))"
      ],
      "metadata": {
        "colab": {
          "base_uri": "https://localhost:8080/"
        },
        "id": "zIt16EIdMddz",
        "outputId": "391671d9-940c-49fc-905f-712ecb5cb00e"
      },
      "execution_count": 15,
      "outputs": [
        {
          "output_type": "stream",
          "name": "stdout",
          "text": [
            "0.125\n"
          ]
        }
      ]
    }
  ],
  "metadata": {
    "colab": {
      "provenance": []
    },
    "kernelspec": {
      "display_name": "Python 3",
      "name": "python3"
    }
  },
  "nbformat": 4,
  "nbformat_minor": 0
}