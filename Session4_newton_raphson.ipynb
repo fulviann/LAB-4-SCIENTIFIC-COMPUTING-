{
  "cells": [
    {
      "cell_type": "code",
      "source": [
        "import numpy as np\n",
        "\n",
        "f = lambda x: x**2 - 2\n",
        "f_prime = lambda x: 2*x\n",
        "newton_raphson = 1.4 - (f(1.4))/(f_prime(1.4))\n",
        "\n",
        "print(\"newton_raphson =\", newton_raphson)\n",
        "print(\"sqrt(2) =\", np.sqrt(2))"
      ],
      "metadata": {
        "id": "kHRKd7GtuYr7",
        "outputId": "90d7c0b9-079b-4d9b-e508-b01a5408c0c5",
        "colab": {
          "base_uri": "https://localhost:8080/"
        }
      },
      "execution_count": 1,
      "outputs": [
        {
          "output_type": "stream",
          "name": "stdout",
          "text": [
            "newton_raphson = 1.4142857142857144\n",
            "sqrt(2) = 1.4142135623730951\n"
          ]
        }
      ]
    },
    {
      "cell_type": "code",
      "source": [
        "def my_newton (f, df, x0, tol) :\n",
        "\n",
        "  if abs(f(x0)) < tol :\n",
        "    return x0\n",
        "  else :\n",
        "    return my_newton(f, df, x0- f(x0)/df(x0),tol)"
      ],
      "metadata": {
        "id": "-f4zjBALvU2j"
      },
      "execution_count": 2,
      "outputs": []
    },
    {
      "cell_type": "code",
      "source": [
        "estimate = my_newton(f, f_prime, 1.5, 1e-6)\n",
        "print(\"estimate =\", estimate)\n",
        "print(\"sqrt(2) =\", np.sqrt(2))"
      ],
      "metadata": {
        "id": "uzAyvyeUwDc7",
        "outputId": "8d0f67ea-27c2-4c52-b158-a6e9e64c5ac6",
        "colab": {
          "base_uri": "https://localhost:8080/"
        }
      },
      "execution_count": 3,
      "outputs": [
        {
          "output_type": "stream",
          "name": "stdout",
          "text": [
            "estimate = 1.4142135623746899\n",
            "sqrt(2) = 1.4142135623730951\n"
          ]
        }
      ]
    },
    {
      "cell_type": "markdown",
      "source": [
        "QUIZ 1 NEWTON_RAPHSON"
      ],
      "metadata": {
        "id": "zFksX4QNPlDK"
      }
    },
    {
      "cell_type": "code",
      "source": [
        "f = lambda x : x*3 - 3*x*2 + 2*x\n",
        "f_prime = lambda x: 3*x**2 - 6*x + 2\n",
        "estimate = my_newton(f, f_prime, 1, 0.01)\n",
        "print(\"estimate =\", estimate)\n",
        "print(\"sqrt(2) =\", np.sqrt(2))\n"
      ],
      "metadata": {
        "colab": {
          "base_uri": "https://localhost:8080/"
        },
        "id": "GE6_F5QXPnIA",
        "outputId": "f3458844-09d3-4506-c27b-c25352136f52"
      },
      "execution_count": 4,
      "outputs": [
        {
          "output_type": "stream",
          "name": "stdout",
          "text": [
            "estimate = 0.0\n",
            "sqrt(2) = 1.4142135623730951\n"
          ]
        }
      ]
    },
    {
      "cell_type": "markdown",
      "source": [
        "QUIZ 2 NEWTON_RAPHSON"
      ],
      "metadata": {
        "id": "e0Pqgn2qPoSd"
      }
    },
    {
      "cell_type": "code",
      "source": [
        "f = lambda x : np.exp(x) - 2**x\n",
        "f_prime = lambda x: np.exp(x) - 2*x*np.log(2)\n",
        "estimate = my_newton(f, f_prime, 1, 0.001)\n",
        "print(\"estimate =\", estimate)\n",
        "print(\"sqrt(2) =\", np.sqrt(2))"
      ],
      "metadata": {
        "colab": {
          "base_uri": "https://localhost:8080/"
        },
        "id": "Z5__qGsgQDiV",
        "outputId": "63640e04-8968-463d-8859-fb29fa93f949"
      },
      "execution_count": 8,
      "outputs": [
        {
          "output_type": "stream",
          "name": "stdout",
          "text": [
            "estimate = 0.0029073715927404493\n",
            "sqrt(2) = 1.4142135623730951\n"
          ]
        }
      ]
    }
  ],
  "metadata": {
    "colab": {
      "toc_visible": true,
      "provenance": []
    },
    "kernelspec": {
      "display_name": "Python 3",
      "name": "python3"
    }
  },
  "nbformat": 4,
  "nbformat_minor": 0
}